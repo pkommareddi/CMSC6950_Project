{
 "cells": [
  {
   "cell_type": "code",
   "execution_count": 107,
   "id": "b1e31300",
   "metadata": {},
   "outputs": [],
   "source": [
    "import pymagicc\n",
    "from pymagicc import MAGICC6\n",
    "from pymagicc.scenarios import rcp26, rcp45, rcp60, rcp85\n",
    "from pymagicc.io import MAGICCData\n",
    "\n",
    "from copy import deepcopy\n",
    "\n",
    "import numpy as np\n",
    "import pandas as pd\n"
   ]
  },
  {
   "cell_type": "code",
   "execution_count": 20,
   "id": "91a21f1d",
   "metadata": {},
   "outputs": [],
   "source": [
    "# Combine the four standard scenarios into one\n",
    "\n",
    "# rcps = rcp26.copy()\n",
    "# for rcp in [rcp26, rcp45, rcp60, rcp85]:\n",
    "#     rcps.append(rcp)\n",
    "\n",
    "rcps = deepcopy(rcp26)\n",
    "for rcp in [rcp45, rcp60, rcp85]:\n",
    "    rcps = rcps.append(rcp)"
   ]
  },
  {
   "cell_type": "code",
   "execution_count": 59,
   "id": "ee0e290c",
   "metadata": {},
   "outputs": [],
   "source": [
    "with MAGICC6() as magicc:\n",
    "    results = magicc.run(rcp26)\n",
    "    for rcp in [rcp45, rcp60, rcp85]:\n",
    "        results.append(magicc.run(rcp), inplace=True)"
   ]
  },
  {
   "cell_type": "code",
   "execution_count": 61,
   "id": "33ce2bb8",
   "metadata": {},
   "outputs": [],
   "source": [
    "# results.meta['model'].drop_duplicates()\n",
    "# help(rcp26.append)\n",
    "results.to_csv('rcps.csv')"
   ]
  },
  {
   "cell_type": "code",
   "execution_count": 64,
   "id": "bbbd2e51",
   "metadata": {},
   "outputs": [],
   "source": [
    "rcps_df = pd.read_csv('rcps.csv')"
   ]
  },
  {
   "cell_type": "code",
   "execution_count": 82,
   "id": "c48bf683",
   "metadata": {},
   "outputs": [],
   "source": [
    "filtered_df = rcps_df[(rcps_df.region == 'World') & (rcps_df.variable == 'Radiative Forcing')]"
   ]
  },
  {
   "cell_type": "code",
   "execution_count": 83,
   "id": "8586a412",
   "metadata": {},
   "outputs": [],
   "source": [
    "filtered_df_1 = filtered_df.drop(['climate_model', 'model', 'region', 'todo', 'unit', 'variable'], axis=1)"
   ]
  },
  {
   "cell_type": "code",
   "execution_count": 97,
   "id": "34ce3aa2",
   "metadata": {},
   "outputs": [],
   "source": [
    "columns_list = list(filtered_df_1.columns[1:])"
   ]
  },
  {
   "cell_type": "code",
   "execution_count": 124,
   "id": "3a2ac615",
   "metadata": {},
   "outputs": [],
   "source": [
    "df = filtered_df_1.T.reset_index().drop(0)\n",
    "df."
   ]
  },
  {
   "cell_type": "code",
   "execution_count": 144,
   "id": "2d08bfd0",
   "metadata": {},
   "outputs": [],
   "source": [
    "df.columns = ['year', 'rcp26', 'rcp45', 'rcp60', 'rcp85']"
   ]
  },
  {
   "cell_type": "code",
   "execution_count": 157,
   "id": "50f8df39",
   "metadata": {},
   "outputs": [],
   "source": [
    "# df['year'] = df['year'].str.slice(0,4)\n",
    "df['year'] = df['year'].astype('datetime64[ns]')"
   ]
  },
  {
   "cell_type": "code",
   "execution_count": 146,
   "id": "1a75866d",
   "metadata": {},
   "outputs": [
    {
     "data": {
      "text/html": [
       "<div>\n",
       "<style scoped>\n",
       "    .dataframe tbody tr th:only-of-type {\n",
       "        vertical-align: middle;\n",
       "    }\n",
       "\n",
       "    .dataframe tbody tr th {\n",
       "        vertical-align: top;\n",
       "    }\n",
       "\n",
       "    .dataframe thead th {\n",
       "        text-align: right;\n",
       "    }\n",
       "</style>\n",
       "<table border=\"1\" class=\"dataframe\">\n",
       "  <thead>\n",
       "    <tr style=\"text-align: right;\">\n",
       "      <th></th>\n",
       "      <th>year</th>\n",
       "      <th>rcp26</th>\n",
       "      <th>rcp45</th>\n",
       "      <th>rcp60</th>\n",
       "      <th>rcp85</th>\n",
       "    </tr>\n",
       "  </thead>\n",
       "  <tbody>\n",
       "    <tr>\n",
       "      <th>1</th>\n",
       "      <td>1765</td>\n",
       "      <td>0</td>\n",
       "      <td>0</td>\n",
       "      <td>0</td>\n",
       "      <td>0</td>\n",
       "    </tr>\n",
       "    <tr>\n",
       "      <th>2</th>\n",
       "      <td>1766</td>\n",
       "      <td>0.0196089</td>\n",
       "      <td>0.0196089</td>\n",
       "      <td>0.0196089</td>\n",
       "      <td>0.0196089</td>\n",
       "    </tr>\n",
       "    <tr>\n",
       "      <th>3</th>\n",
       "      <td>1767</td>\n",
       "      <td>0.0615656</td>\n",
       "      <td>0.0615656</td>\n",
       "      <td>0.0615656</td>\n",
       "      <td>0.0615656</td>\n",
       "    </tr>\n",
       "    <tr>\n",
       "      <th>4</th>\n",
       "      <td>1768</td>\n",
       "      <td>0.0312872</td>\n",
       "      <td>0.0312872</td>\n",
       "      <td>0.0312872</td>\n",
       "      <td>0.0312872</td>\n",
       "    </tr>\n",
       "    <tr>\n",
       "      <th>5</th>\n",
       "      <td>1769</td>\n",
       "      <td>-0.0120852</td>\n",
       "      <td>-0.0120852</td>\n",
       "      <td>-0.0120852</td>\n",
       "      <td>-0.0120852</td>\n",
       "    </tr>\n",
       "    <tr>\n",
       "      <th>...</th>\n",
       "      <td>...</td>\n",
       "      <td>...</td>\n",
       "      <td>...</td>\n",
       "      <td>...</td>\n",
       "      <td>...</td>\n",
       "    </tr>\n",
       "    <tr>\n",
       "      <th>332</th>\n",
       "      <td>2096</td>\n",
       "      <td>2.615</td>\n",
       "      <td>4.22536</td>\n",
       "      <td>5.39806</td>\n",
       "      <td>8.0641</td>\n",
       "    </tr>\n",
       "    <tr>\n",
       "      <th>333</th>\n",
       "      <td>2097</td>\n",
       "      <td>2.60898</td>\n",
       "      <td>4.22965</td>\n",
       "      <td>5.41968</td>\n",
       "      <td>8.12729</td>\n",
       "    </tr>\n",
       "    <tr>\n",
       "      <th>334</th>\n",
       "      <td>2098</td>\n",
       "      <td>2.60304</td>\n",
       "      <td>4.23411</td>\n",
       "      <td>5.4415</td>\n",
       "      <td>8.18998</td>\n",
       "    </tr>\n",
       "    <tr>\n",
       "      <th>335</th>\n",
       "      <td>2099</td>\n",
       "      <td>2.59716</td>\n",
       "      <td>4.23875</td>\n",
       "      <td>5.46347</td>\n",
       "      <td>8.252</td>\n",
       "    </tr>\n",
       "    <tr>\n",
       "      <th>336</th>\n",
       "      <td>2100</td>\n",
       "      <td>2.59716</td>\n",
       "      <td>4.23875</td>\n",
       "      <td>5.46347</td>\n",
       "      <td>8.252</td>\n",
       "    </tr>\n",
       "  </tbody>\n",
       "</table>\n",
       "<p>336 rows × 5 columns</p>\n",
       "</div>"
      ],
      "text/plain": [
       "     year      rcp26      rcp45      rcp60      rcp85\n",
       "1    1765          0          0          0          0\n",
       "2    1766  0.0196089  0.0196089  0.0196089  0.0196089\n",
       "3    1767  0.0615656  0.0615656  0.0615656  0.0615656\n",
       "4    1768  0.0312872  0.0312872  0.0312872  0.0312872\n",
       "5    1769 -0.0120852 -0.0120852 -0.0120852 -0.0120852\n",
       "..    ...        ...        ...        ...        ...\n",
       "332  2096      2.615    4.22536    5.39806     8.0641\n",
       "333  2097    2.60898    4.22965    5.41968    8.12729\n",
       "334  2098    2.60304    4.23411     5.4415    8.18998\n",
       "335  2099    2.59716    4.23875    5.46347      8.252\n",
       "336  2100    2.59716    4.23875    5.46347      8.252\n",
       "\n",
       "[336 rows x 5 columns]"
      ]
     },
     "execution_count": 146,
     "metadata": {},
     "output_type": "execute_result"
    }
   ],
   "source": [
    "import matplotlib.pyplot as plt\n",
    "%matplotlib inline\n",
    "df"
   ]
  },
  {
   "cell_type": "code",
   "execution_count": 163,
   "id": "90bbee4c",
   "metadata": {},
   "outputs": [
    {
     "data": {
      "image/png": "[encoded data removed]",
      "text/plain": [
       "<Figure size 1152x648 with 1 Axes>"
      ]
     },
     "metadata": {
      "needs_background": "light"
     },
     "output_type": "display_data"
    }
   ],
   "source": [
    "fig, ax = plt.subplots(nrows=1, ncols=1, figsize=(16, 9))\n",
    "ax.plot(df['year'], df['rcp26'], label='rcp26')\n",
    "ax.plot(df['year'], df['rcp45'], label='rcp45')\n",
    "ax.plot(df['year'], df['rcp60'], label='rcp60')\n",
    "ax.plot(df['year'], df['rcp85'], label='rcp85')\n",
    "ax.legend(title='Scenarios')\n",
    "ax.set_xlabel('year')\n",
    "ax.set_ylabel('Radiative Forcing')\n",
    "ax.grid()\n",
    "plt.show()"
   ]
  }
 ],
 "metadata": {
  "kernelspec": {
   "display_name": "Python 3",
   "language": "python",
   "name": "python3"
  },
  "language_info": {
   "codemirror_mode": {
    "name": "ipython",
    "version": 3
   },
   "file_extension": ".py",
   "mimetype": "text/x-python",
   "name": "python",
   "nbconvert_exporter": "python",
   "pygments_lexer": "ipython3",
   "version": "3.9.4"
  }
 },
 "nbformat": 4,
 "nbformat_minor": 5
}
